{
 "cells": [
  {
   "cell_type": "code",
   "execution_count": null,
   "id": "7703b338-86f0-432a-a851-d20a84ab6585",
   "metadata": {},
   "outputs": [],
   "source": [
    "# Importing required library\n",
    "import numpy as np\n",
    "\n",
    "# Initial array\n",
    "before = np.array([[1,2,3,4],[5,6,7,8]])\n",
    "print(\"Before Reshape:\")\n",
    "print(before)\n",
    "print(\"\\n\")\n",
    "\n",
    "# Reshaping the array\n",
    "after = before.reshape((2,2,2))\n",
    "print(\"After Reshape:\")\n",
    "print(after)\n",
    "print(\"\\n\")\n",
    "\n",
    "# Vertically stacking vectors\n",
    "v1 = np.array([1,2,3,4])\n",
    "v2 = np.array([5,6,7,8])\n",
    "stacked_vertical = np.vstack([v1,v2,v2,v2,v1])\n",
    "print(\"Vertically Stacked:\")\n",
    "print(stacked_vertical)\n",
    "print(\"\\n\")\n",
    "\n",
    "# Horizontally stacking vectors\n",
    "h1 = np.array([1,2,3,4])\n",
    "h2 = np.array([5,6,7,8])\n",
    "stacked_horizontal = np.hstack([h1,h2,h2,h2,h1])\n",
    "print(\"Horizontally Stacked:\")\n",
    "print(stacked_horizontal)\n"
   ]
  }
 ],
 "metadata": {
  "kernelspec": {
   "display_name": "Python 3 (ipykernel)",
   "language": "python",
   "name": "python3"
  },
  "language_info": {
   "codemirror_mode": {
    "name": "ipython",
    "version": 3
   },
   "file_extension": ".py",
   "mimetype": "text/x-python",
   "name": "python",
   "nbconvert_exporter": "python",
   "pygments_lexer": "ipython3",
   "version": "3.12.6"
  }
 },
 "nbformat": 4,
 "nbformat_minor": 5
}
