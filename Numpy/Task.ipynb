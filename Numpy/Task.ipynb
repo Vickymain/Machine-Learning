{
 "cells": [
  {
   "cell_type": "code",
   "execution_count": null,
   "id": "76a22f1a-8048-4e38-afca-eed6ee9dceb7",
   "metadata": {},
   "outputs": [],
   "source": [
    "# Importing the numpy library\n",
    "import numpy as np\n",
    "\n",
    "# Creating a 5x5 array filled with ones\n",
    "all_nums = np.ones((5,5))\n",
    "\n",
    "# Creating a 3x3 array filled with zeros and placing 9 in the center\n",
    "z = np.zeros((3,3))\n",
    "z[1][1] = 9\n",
    "\n",
    "# Placing the 3x3 array in the center of the 5x5 array\n",
    "all_nums[1:-1, 1:-1] = z\n",
    "print(\"Updated 5x5 Array with 3x3 block:\")\n",
    "print(all_nums)\n",
    "print(\"\\n\")\n",
    "\n",
    "# Copying contents of an array\n",
    "a = np.array([1, 2, 3])\n",
    "b = a.copy()  # Creates a copy of array 'a'\n",
    "print(\"Copied elements of a to b\")\n",
    "print(f\"b => {b}\")\n"
   ]
  }
 ],
 "metadata": {
  "kernelspec": {
   "display_name": "Python 3 (ipykernel)",
   "language": "python",
   "name": "python3"
  },
  "language_info": {
   "codemirror_mode": {
    "name": "ipython",
    "version": 3
   },
   "file_extension": ".py",
   "mimetype": "text/x-python",
   "name": "python",
   "nbconvert_exporter": "python",
   "pygments_lexer": "ipython3",
   "version": "3.12.6"
  }
 },
 "nbformat": 4,
 "nbformat_minor": 5
}
