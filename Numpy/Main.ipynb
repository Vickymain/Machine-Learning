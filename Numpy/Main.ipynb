{
 "cells": [
  {
   "cell_type": "code",
   "execution_count": null,
   "id": "2a5fcaec-ded1-47d3-af05-cce2f60d6f5c",
   "metadata": {},
   "outputs": [],
   "source": [
    "# Importing the numpy library\n",
    "import numpy as np\n",
    "\n",
    "# Numpy is a multi-dimensional array used to store data\n",
    "# Advantages of Numpy over lists:\n",
    "# 1. Numpy is faster than lists and requires less space.\n",
    "# 2. Numpy uses fixed data types.\n",
    "# 3. No type checking occurs in Numpy arrays unlike Python lists.\n",
    "# 4. Numpy uses contiguous memory for SIMD (Single Instruction, Multiple Data) processing.\n",
    "# 5. Numpy ensures proper utilization of cache memory for better performance.\n",
    "\n",
    "# Applications of Numpy:\n",
    "# 1. Mathematics (MATLAB replacement)\n",
    "# 2. Plotting (Matplotlib)\n",
    "# 3. Backend for libraries (Pandas, Connect 4, Digital Photography)\n",
    "# 4. Machine Learning\n",
    "\n",
    "# The Basics\n",
    "\n",
    "# Creating a 2D array\n",
    "arr1 = np.array([[1, 2, 3], [4, 5, 6]])\n",
    "\n",
    "# Checking the number of dimensions\n",
    "print(\"Number of dimensions:\", arr1.ndim)\n",
    "\n",
    "# Printing the shape (rows and columns)\n",
    "print(\"Shape of the array:\", arr1.shape)\n",
    "\n",
    "# Getting the data type of the array elements\n",
    "print(\"Data type of the array:\", arr1.dtype)\n",
    "\n",
    "# Getting the size of each element in the array (in bytes)\n",
    "print(\"Size of each element (in bytes):\", arr1.itemsize)\n",
    "\n",
    "# Getting the total number of elements in the array\n",
    "print(\"Total number of elements:\", arr1.size)\n",
    "\n",
    "# Printing the array\n",
    "print(\"\\nArray:\")\n",
    "print(arr1)\n"
   ]
  }
 ],
 "metadata": {
  "kernelspec": {
   "display_name": "Python 3 (ipykernel)",
   "language": "python",
   "name": "python3"
  },
  "language_info": {
   "codemirror_mode": {
    "name": "ipython",
    "version": 3
   },
   "file_extension": ".py",
   "mimetype": "text/x-python",
   "name": "python",
   "nbconvert_exporter": "python",
   "pygments_lexer": "ipython3",
   "version": "3.12.6"
  }
 },
 "nbformat": 4,
 "nbformat_minor": 5
}
