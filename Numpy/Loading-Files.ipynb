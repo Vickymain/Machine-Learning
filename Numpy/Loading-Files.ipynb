{
 "cells": [
  {
   "cell_type": "code",
   "execution_count": null,
   "id": "14ba9961-09fb-4491-99e5-1505a738ba11",
   "metadata": {},
   "outputs": [],
   "source": [
    "# Importing the numpy library\n",
    "import numpy as np\n",
    "\n",
    "# Reading data from a text file with a comma as the delimiter\n",
    "# Ensure the file 'data.txt' exists in the working directory\n",
    "file_data = np.genfromtxt('data.txt', delimiter=',')\n",
    "\n",
    "# Printing the data converted to integers\n",
    "print(\"File data (converted to int32):\")\n",
    "print(file_data.astype('int32'))\n",
    "\n",
    "# ****************** ADVANCED INDEXING ******************\n",
    "\n",
    "# Checking if any element in the array is greater than 50\n",
    "print(\"\\nIs any element greater than 50?\")\n",
    "print(np.any(file_data > 50))\n",
    "\n",
    "# You can index with a list in numpy\n",
    "print(\"\\n\\nSample array indexing:\")\n",
    "sample = np.array([1, 2, 3, 4, 5, 6, 7, 8, 9, 10])\n",
    "\n",
    "# Accessing specific elements using a list of indices\n",
    "print(sample[[1, 2, 8]])  # Indexes 1 (2nd element), 2 (3rd element), and 8 (9th element)\n"
   ]
  }
 ],
 "metadata": {
  "kernelspec": {
   "display_name": "Python 3 (ipykernel)",
   "language": "python",
   "name": "python3"
  },
  "language_info": {
   "codemirror_mode": {
    "name": "ipython",
    "version": 3
   },
   "file_extension": ".py",
   "mimetype": "text/x-python",
   "name": "python",
   "nbconvert_exporter": "python",
   "pygments_lexer": "ipython3",
   "version": "3.12.6"
  }
 },
 "nbformat": 4,
 "nbformat_minor": 5
}
