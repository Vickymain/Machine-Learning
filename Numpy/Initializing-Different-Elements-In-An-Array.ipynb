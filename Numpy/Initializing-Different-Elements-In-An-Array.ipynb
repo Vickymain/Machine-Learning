{
 "cells": [
  {
   "cell_type": "code",
   "execution_count": null,
   "id": "11cd1dbb-6c1e-4969-be15-f5d35c036f70",
   "metadata": {},
   "outputs": [],
   "source": [
    "# Importing the numpy library\n",
    "import numpy as np\n",
    "\n",
    "# All zeros matrix\n",
    "zeroarray = np.zeros((2, 3, 4, 6))\n",
    "print(\"This is a 2x3 matrix of 4 rows and 6 columns containing all elements as zeros\")\n",
    "print(zeroarray)\n",
    "print(\"\\n\\n\")\n",
    "\n",
    "# All ones matrix\n",
    "onesarray = np.ones((2, 3, 4, 6))\n",
    "print(\"This is a 2x3 matrix of 4 rows and 6 columns containing all elements as ones\")\n",
    "print(onesarray)\n",
    "print(\"\\n\\n\")\n",
    "\n",
    "# Matrix of a specific number\n",
    "all_nums = np.full((2, 3, 4, 6), 10)\n",
    "print(\"This is a 2x3 matrix of 4 rows and 6 columns containing all elements as tens\")\n",
    "print(all_nums)\n",
    "\n",
    "# Any other number using full_like\n",
    "arr1 = np.array([[1, 2, 3], [4, 5, 6]])\n",
    "print(\"\\nUsing full_like to fill with 4s:\")\n",
    "other_number = np.full_like(arr1, 4)\n",
    "print(other_number)\n",
    "\n",
    "# Random decimal numbers\n",
    "print(\"\\n\\nRandom decimal numbers (based on arr1's shape, 2x3):\")\n",
    "print(np.random.random_sample(arr1.shape))\n",
    "\n",
    "# Random integer values\n",
    "print(\"\\n\\nRandom integer numbers (3x3, between 0 and 9):\")\n",
    "print(np.random.randint(0, 9, size=(3, 3)))\n",
    "\n",
    "# Identity matrix\n",
    "print(\"\\n\\nThis is the identity matrix (2x2):\")\n",
    "print(np.identity(2))\n",
    "\n",
    "# Repeated array\n",
    "print(\"\\n\\nThis is a repeated array (arr repeated 3 times along axis 0):\")\n",
    "arr = np.array([[1, 2, 3], [4, 5, 6]])\n",
    "repeated_array = np.repeat(arr, 3, axis=0)\n",
    "print(f\"Repeated array:\\n{repeated_array}\")\n"
   ]
  }
 ],
 "metadata": {
  "kernelspec": {
   "display_name": "Python 3 (ipykernel)",
   "language": "python",
   "name": "python3"
  },
  "language_info": {
   "codemirror_mode": {
    "name": "ipython",
    "version": 3
   },
   "file_extension": ".py",
   "mimetype": "text/x-python",
   "name": "python",
   "nbconvert_exporter": "python",
   "pygments_lexer": "ipython3",
   "version": "3.12.6"
  }
 },
 "nbformat": 4,
 "nbformat_minor": 5
}
